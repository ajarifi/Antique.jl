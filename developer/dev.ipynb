{
 "cells": [
  {
   "cell_type": "code",
   "execution_count": 1,
   "id": "c8aaaebe",
   "metadata": {},
   "outputs": [
    {
     "name": "stderr",
     "output_type": "stream",
     "text": [
      "\u001b[32m\u001b[1m  Activating\u001b[22m\u001b[39m project at `C:\\Users\\user\\Desktop\\Antique.jl`\n",
      "\u001b[36m\u001b[1m[ \u001b[22m\u001b[39m\u001b[36m\u001b[1mInfo: \u001b[22m\u001b[39mPrecompiling Antique [be6e5d0e-34a5-4c8f-af83-e1b5389203d8]\n"
     ]
    }
   ],
   "source": [
    "# run `include(\"./developer/revice.jl\")`\n",
    "using Pkg\n",
    "Pkg.instantiate()\n",
    "# Pkg.add(\"Revise\")\n",
    "using Revise\n",
    "Pkg.activate(\"../\")\n",
    "using Antique"
   ]
  },
  {
   "cell_type": "code",
   "execution_count": 2,
   "id": "8de4ffa5",
   "metadata": {
    "scrolled": true
   },
   "outputs": [
    {
     "name": "stderr",
     "output_type": "stream",
     "text": [
      "\u001b[33m\u001b[1m┌ \u001b[22m\u001b[39m\u001b[33m\u001b[1mWarning: \u001b[22m\u001b[39mThe function `antique(model; parameters...)` is deprecated. Please check the latest document: https://ohno.github.io/Antique.jl/stable/\n",
      "\u001b[33m\u001b[1m└ \u001b[22m\u001b[39m\u001b[90m@ Antique C:\\Users\\user\\Desktop\\Antique.jl\\src\\Antique.jl:44\u001b[39m\n",
      "WARNING: replacing module OldHarmonicOscillator.\n"
     ]
    },
    {
     "data": {
      "text/plain": [
       "0.5"
      ]
     },
     "execution_count": 2,
     "metadata": {},
     "output_type": "execute_result"
    }
   ],
   "source": [
    "HO = antique(:HarmonicOscillator)\n",
    "HO.E()"
   ]
  },
  {
   "cell_type": "code",
   "execution_count": 3,
   "id": "b28abbb0",
   "metadata": {},
   "outputs": [
    {
     "ename": "LoadError",
     "evalue": "UndefVarError: `HarmonicOscillators` not defined",
     "output_type": "error",
     "traceback": [
      "UndefVarError: `HarmonicOscillators` not defined",
      "",
      "Stacktrace:",
      " [1] getproperty(x::Module, f::Symbol)",
      "   @ Base .\\Base.jl:31",
      " [2] top-level scope",
      "   @ In[3]:1"
     ]
    }
   ],
   "source": [
    "HO = Antique.HarmonicOscillators.HarmonicOscillator()\n",
    "Antique.HarmonicOscillators.E(HO)"
   ]
  },
  {
   "cell_type": "code",
   "execution_count": 4,
   "id": "44db1504",
   "metadata": {},
   "outputs": [
    {
     "ename": "LoadError",
     "evalue": "UndefVarError: `HarmonicOscillators` not defined",
     "output_type": "error",
     "traceback": [
      "UndefVarError: `HarmonicOscillators` not defined",
      "",
      "Stacktrace:",
      " [1] top-level scope",
      "   @ In[4]:1"
     ]
    }
   ],
   "source": [
    "HO = HarmonicOscillators.HarmonicOscillator()\n",
    "HarmonicOscillators.E(HO)"
   ]
  },
  {
   "cell_type": "code",
   "execution_count": 5,
   "id": "556bbaf0",
   "metadata": {},
   "outputs": [
    {
     "data": {
      "text/plain": [
       "0.5"
      ]
     },
     "execution_count": 5,
     "metadata": {},
     "output_type": "execute_result"
    }
   ],
   "source": [
    "HO = HarmonicOscillator()\n",
    "E(HO)"
   ]
  },
  {
   "cell_type": "code",
   "execution_count": 6,
   "id": "0bd376ea",
   "metadata": {},
   "outputs": [
    {
     "data": {
      "text/plain": [
       "0.5"
      ]
     },
     "execution_count": 6,
     "metadata": {},
     "output_type": "execute_result"
    }
   ],
   "source": [
    "IPW = InfinitePotentialWell(L=pi)\n",
    "E(IPW)"
   ]
  },
  {
   "cell_type": "code",
   "execution_count": 7,
   "id": "868e4a6c",
   "metadata": {},
   "outputs": [
    {
     "data": {
      "text/plain": [
       "-0.09741377794418261"
      ]
     },
     "execution_count": 7,
     "metadata": {},
     "output_type": "execute_result"
    }
   ],
   "source": [
    "MP = MorsePotential()\n",
    "E(MP)"
   ]
  },
  {
   "cell_type": "code",
   "execution_count": 8,
   "id": "044bb79a",
   "metadata": {},
   "outputs": [
    {
     "data": {
      "text/plain": [
       "-0.5"
      ]
     },
     "execution_count": 8,
     "metadata": {},
     "output_type": "execute_result"
    }
   ],
   "source": [
    "H = HydrogenAtom()\n",
    "E(H)"
   ]
  },
  {
   "cell_type": "code",
   "execution_count": 9,
   "id": "a7f3003c",
   "metadata": {},
   "outputs": [
    {
     "data": {
      "text/plain": [
       "-2.0"
      ]
     },
     "execution_count": 9,
     "metadata": {},
     "output_type": "execute_result"
    }
   ],
   "source": [
    "He⁺ = HydrogenAtom(Z=2)\n",
    "E(He⁺)"
   ]
  },
  {
   "cell_type": "code",
   "execution_count": 10,
   "id": "33563856",
   "metadata": {},
   "outputs": [
    {
     "data": {
      "text/plain": [
       "-4.5"
      ]
     },
     "execution_count": 10,
     "metadata": {},
     "output_type": "execute_result"
    }
   ],
   "source": [
    "Li²⁺ = HydrogenAtom(Z=3)\n",
    "E(Li²⁺)"
   ]
  }
 ],
 "metadata": {
  "kernelspec": {
   "display_name": "Julia 1.9.2",
   "language": "julia",
   "name": "julia-1.9"
  },
  "language_info": {
   "file_extension": ".jl",
   "mimetype": "application/julia",
   "name": "julia",
   "version": "1.9.2"
  }
 },
 "nbformat": 4,
 "nbformat_minor": 5
}
