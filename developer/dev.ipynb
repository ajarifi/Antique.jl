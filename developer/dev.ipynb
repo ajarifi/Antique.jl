{
 "cells": [
  {
   "cell_type": "code",
   "execution_count": 1,
   "id": "c8aaaebe",
   "metadata": {},
   "outputs": [
    {
     "name": "stderr",
     "output_type": "stream",
     "text": [
      "\u001b[32m\u001b[1m  Activating\u001b[22m\u001b[39m new project at `C:\\Users\\user\\Desktop\\GitHub\\Antique.jl\\developer`\n"
     ]
    }
   ],
   "source": [
    "include(\"revice.jl\")"
   ]
  },
  {
   "cell_type": "code",
   "execution_count": null,
   "id": "97a634d3",
   "metadata": {},
   "outputs": [],
   "source": []
  }
 ],
 "metadata": {
  "kernelspec": {
   "display_name": "Julia 1.9.2",
   "language": "julia",
   "name": "julia-1.9"
  },
  "language_info": {
   "file_extension": ".jl",
   "mimetype": "application/julia",
   "name": "julia",
   "version": "1.9.2"
  }
 },
 "nbformat": 4,
 "nbformat_minor": 5
}
