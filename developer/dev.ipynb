{
 "cells": [
  {
   "cell_type": "code",
   "execution_count": 1,
   "id": "c8aaaebe",
   "metadata": {},
   "outputs": [
    {
     "name": "stderr",
     "output_type": "stream",
     "text": [
      "\u001b[32m\u001b[1m  Activating\u001b[22m\u001b[39m project at `C:\\Users\\user\\Desktop\\Antique.jl`\n",
      "\u001b[36m\u001b[1m[ \u001b[22m\u001b[39m\u001b[36m\u001b[1mInfo: \u001b[22m\u001b[39mPrecompiling Antique [be6e5d0e-34a5-4c8f-af83-e1b5389203d8]\n"
     ]
    }
   ],
   "source": [
    "# run `include(\"./developer/revice.jl\")`\n",
    "using Pkg\n",
    "Pkg.instantiate()\n",
    "# Pkg.add(\"Revise\")\n",
    "using Revise\n",
    "Pkg.activate(\"../\")\n",
    "using Antique"
   ]
  },
  {
   "cell_type": "code",
   "execution_count": 2,
   "id": "526ca10f",
   "metadata": {},
   "outputs": [
    {
     "data": {
      "text/plain": [
       "-0.5"
      ]
     },
     "execution_count": 2,
     "metadata": {},
     "output_type": "execute_result"
    }
   ],
   "source": [
    "using Antique\n",
    "H = HydrogenAtom(Z=1)\n",
    "E(H)"
   ]
  },
  {
   "cell_type": "code",
   "execution_count": 3,
   "id": "4e1782eb",
   "metadata": {},
   "outputs": [
    {
     "data": {
      "text/plain": [
       "-2.0"
      ]
     },
     "execution_count": 3,
     "metadata": {},
     "output_type": "execute_result"
    }
   ],
   "source": [
    "using Antique\n",
    "He⁺ = HydrogenAtom(Z=2)\n",
    "E(He⁺)"
   ]
  }
 ],
 "metadata": {
  "kernelspec": {
   "display_name": "Julia 1.9.2",
   "language": "julia",
   "name": "julia-1.9"
  },
  "language_info": {
   "file_extension": ".jl",
   "mimetype": "application/julia",
   "name": "julia",
   "version": "1.9.2"
  }
 },
 "nbformat": 4,
 "nbformat_minor": 5
}
