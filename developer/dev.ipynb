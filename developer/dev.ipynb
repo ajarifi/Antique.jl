{
 "cells": [
  {
   "cell_type": "code",
   "execution_count": 1,
   "id": "c8aaaebe",
   "metadata": {},
   "outputs": [
    {
     "name": "stderr",
     "output_type": "stream",
     "text": [
      "\u001b[32m\u001b[1mPrecompiling\u001b[22m\u001b[39m project...\n",
      "\u001b[32m  ✓ \u001b[39mAntique\n",
      "  1 dependency successfully precompiled in 1 seconds. 12 already precompiled.\n",
      "\u001b[32m\u001b[1m  Activating\u001b[22m\u001b[39m project at `C:\\Users\\user\\Desktop\\Antique.jl`\n"
     ]
    }
   ],
   "source": [
    "# run `include(\"./developer/revice.jl\")`\n",
    "using Pkg\n",
    "Pkg.instantiate()\n",
    "# Pkg.add(\"Revise\")\n",
    "using Revise\n",
    "Pkg.activate(\"../\")\n",
    "using Antique"
   ]
  },
  {
   "cell_type": "code",
   "execution_count": 2,
   "id": "1fa04011",
   "metadata": {},
   "outputs": [
    {
     "name": "stderr",
     "output_type": "stream",
     "text": [
      "\u001b[33m\u001b[1m┌ \u001b[22m\u001b[39m\u001b[33m\u001b[1mWarning: \u001b[22m\u001b[39mThe function `antique` is deprecated. Please check the latest document: https://ohno.github.io/Antique.jl/stable/\n",
      "\u001b[33m\u001b[1m└ \u001b[22m\u001b[39m\u001b[90m@ Antique C:\\Users\\user\\Desktop\\Antique.jl\\src\\Antique.jl:37\u001b[39m\n"
     ]
    },
    {
     "data": {
      "text/plain": [
       "-0.5"
      ]
     },
     "execution_count": 2,
     "metadata": {},
     "output_type": "execute_result"
    }
   ],
   "source": [
    "H = antique(:HydrogenAtom, Z=1)\n",
    "H.E(n=1)"
   ]
  }
 ],
 "metadata": {
  "kernelspec": {
   "display_name": "Julia 1.9.2",
   "language": "julia",
   "name": "julia-1.9"
  },
  "language_info": {
   "file_extension": ".jl",
   "mimetype": "application/julia",
   "name": "julia",
   "version": "1.9.2"
  }
 },
 "nbformat": 4,
 "nbformat_minor": 5
}
