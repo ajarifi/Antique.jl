{
 "cells": [
  {
   "cell_type": "markdown",
   "id": "f104b268",
   "metadata": {},
   "source": [
    "# Packages"
   ]
  },
  {
   "cell_type": "code",
   "execution_count": 1,
   "id": "c8aaaebe",
   "metadata": {},
   "outputs": [
    {
     "name": "stderr",
     "output_type": "stream",
     "text": [
      "\u001b[32m\u001b[1m  Activating\u001b[22m\u001b[39m project at `C:\\Users\\user\\Desktop\\GitHub\\Antique.jl`\n",
      "\u001b[32m\u001b[1m  No Changes\u001b[22m\u001b[39m to `C:\\Users\\user\\Desktop\\GitHub\\Antique.jl\\Project.toml`\n",
      "\u001b[32m\u001b[1m  No Changes\u001b[22m\u001b[39m to `C:\\Users\\user\\Desktop\\GitHub\\Antique.jl\\Manifest.toml`\n"
     ]
    }
   ],
   "source": [
    "using Pkg\n",
    "\n",
    "# Pkg.add(\"Revise\")\n",
    "using Revise\n",
    "\n",
    "Pkg.instantiate()\n",
    "Pkg.activate(\"../\")\n",
    "Pkg.resolve()\n",
    "using Antique\n",
    "using CairoMakie"
   ]
  },
  {
   "cell_type": "markdown",
   "id": "1c1add1b",
   "metadata": {},
   "source": [
    "# DO NOT COMMIT"
   ]
  },
  {
   "cell_type": "code",
   "execution_count": null,
   "id": "3fe847f7",
   "metadata": {},
   "outputs": [],
   "source": []
  }
 ],
 "metadata": {
  "kernelspec": {
   "display_name": "Julia 1.9.2",
   "language": "julia",
   "name": "julia-1.9"
  },
  "language_info": {
   "file_extension": ".jl",
   "mimetype": "application/julia",
   "name": "julia",
   "version": "1.9.2"
  }
 },
 "nbformat": 4,
 "nbformat_minor": 5
}
